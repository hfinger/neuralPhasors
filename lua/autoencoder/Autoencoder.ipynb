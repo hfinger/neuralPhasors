{
 "cells": [
  {
   "cell_type": "code",
   "execution_count": 179,
   "metadata": {
    "collapsed": false
   },
   "outputs": [],
   "source": [
    "require 'unsup';\n",
    "require 'nn';\n",
    "require 'image';\n",
    "require 'optim';\n",
    "require 'randomkit'"
   ]
  },
  {
   "cell_type": "code",
   "execution_count": 2,
   "metadata": {
    "collapsed": false
   },
   "outputs": [],
   "source": [
    "n_hidden = 50\n",
    "n_input = 32*32"
   ]
  },
  {
   "cell_type": "code",
   "execution_count": 296,
   "metadata": {
    "collapsed": false,
    "scrolled": true
   },
   "outputs": [
    {
     "data": {
      "text/plain": [
       " 10000\n",
       "     1\n",
       "    32\n",
       "    32\n",
       "[torch.LongStorage of size 4]\n",
       "\n"
      ]
     },
     "execution_count": 296,
     "metadata": {},
     "output_type": "execute_result"
    }
   ],
   "source": [
    "t = torch.Timer()\n",
    "train = torch.load('mnist.t7/train_32x32.t7', 'ascii')\n",
    "test = torch.load('mnist.t7/test_32x32.t7', 'ascii')\n",
    "train = train.data\n",
    "test = test.data\n",
    "\n",
    "traindata = torch.Tensor(train:size()[1],1,32,32)\n",
    "for i = 1,train:size()[1] do   \n",
    "   traindata[i] = train[i]\n",
    "end\n",
    "traindata:div(255)\n",
    "--traindata:add(-traindata:mean())\n",
    "print(#test)"
   ]
  },
  {
   "cell_type": "code",
   "execution_count": 376,
   "metadata": {
    "collapsed": false
   },
   "outputs": [
    {
     "data": {
      "image/png": "[encoded data removed]",
      "text/plain": [
       "Console does not support images"
      ]
     },
     "metadata": {
      "image/png": {
       "height": 100,
       "width": 100
      }
     },
     "output_type": "display_data"
    }
   ],
   "source": [
    "big = torch.Tensor(100,100):zero()\n",
    "for i = 1,2 do\n",
    "    n = torch.random(1,60000)\n",
    "    stim = traindata[n]\n",
    "    stim = stim[{{1},{2,29},{2,29}}]\n",
    "    x = torch.random(1,72)\n",
    "    y = torch.random(1,72)\n",
    "    big[{{x,x+27}, {y,y+27}}] = torch.cmax(big[{{x,x+27}, {y,y+27}}], stim)\n",
    "end\n",
    "itorch.image(big)"
   ]
  },
  {
   "cell_type": "code",
   "execution_count": 140,
   "metadata": {
    "collapsed": false
   },
   "outputs": [
    {
     "data": {
      "text/plain": [
       "  1\n",
       " 32\n",
       " 32\n",
       "[torch.LongStorage of size 3]\n",
       "\n"
      ]
     },
     "execution_count": 140,
     "metadata": {},
     "output_type": "execute_result"
    }
   ],
   "source": [
    "t = traindata[2]\n",
    "print(#traindata[2])\n",
    "--stim = traindata[{{2,30},{2,30}}]"
   ]
  },
  {
   "cell_type": "code",
   "execution_count": 467,
   "metadata": {
    "collapsed": false
   },
   "outputs": [
    {
     "data": {
      "image/png": "[encoded data removed]",
      "text/plain": [
       "Console does not support images"
      ]
     },
     "metadata": {
      "image/png": {
       "height": 100,
       "width": 100
      }
     },
     "output_type": "display_data"
    }
   ],
   "source": [
    "noise = torch.Tensor(#big):bernoulli(0.5) --randomkit.bernoulli(torch.Tensor(#big),1,0.1)\n",
    "corrupted = torch.cmul(big,noise)\n",
    "itorch.image(corrupted)"
   ]
  },
  {
   "cell_type": "code",
   "execution_count": 451,
   "metadata": {
    "collapsed": false
   },
   "outputs": [
    {
     "ename": "[string \"%%R...\"]:1: unexpected symbol near '%'",
     "evalue": "",
     "output_type": "error",
     "traceback": [
      "[string \"%%R...\"]:1: unexpected symbol near '%'"
     ]
    }
   ],
   "source": [
    "%%R"
   ]
  },
  {
   "cell_type": "code",
   "execution_count": null,
   "metadata": {
    "collapsed": true
   },
   "outputs": [],
   "source": []
  }
 ],
 "metadata": {
  "kernelspec": {
   "display_name": "iTorch",
   "language": "lua",
   "name": "itorch"
  },
  "language_info": {
   "name": "lua",
   "version": "20003"
  }
 },
 "nbformat": 4,
 "nbformat_minor": 0
}
