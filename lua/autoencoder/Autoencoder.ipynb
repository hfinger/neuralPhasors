{
 "cells": [
  {
   "cell_type": "code",
   "execution_count": 1,
   "metadata": {
    "collapsed": false
   },
   "outputs": [],
   "source": [
    "require 'unsup';\n",
    "require 'nn';\n",
    "require 'gnuplot';\n",
    "require 'Encoder';\n",
    "require 'nngraph';\n",
    "require 'image';\n",
    "require 'optim';\n",
    "require 'randomkit'"
   ]
  },
  {
   "cell_type": "code",
   "execution_count": 2,
   "metadata": {
    "collapsed": false
   },
   "outputs": [
    {
     "data": {
      "text/plain": [
       "  1\n",
       "  2\n",
       "  3\n",
       "  4\n",
       "  5\n",
       "  6\n",
       "  7\n",
       "  8\n",
       "  9\n",
       " 10\n",
       "[torch.LongTensor of size 10x1]\n",
       "\n"
      ]
     },
     "execution_count": 2,
     "metadata": {},
     "output_type": "execute_result"
    }
   ],
   "source": [
    "n_hidden = 50\n",
    "n_input = 32*32"
   ]
  },
  {
   "cell_type": "code",
   "execution_count": 5,
   "metadata": {
    "collapsed": false,
    "scrolled": true
   },
   "outputs": [
    {
     "data": {
      "text/plain": [
       "0.40843415260315\t\n"
      ]
     },
     "execution_count": 5,
     "metadata": {},
     "output_type": "execute_result"
    }
   ],
   "source": [
    "t = torch.Timer()\n",
    "train = torch.load('mnist.t7/train_32x32.t7', 'ascii')\n",
    "test = torch.load('mnist.t7/test_32x32.t7', 'ascii')\n",
    "train = train.data\n",
    "\n",
    "traindata = torch.Tensor(train:size()[1],1,32,32)\n",
    "for i = 1,train:size()[1] do   \n",
    "   traindata[i] = train[i]\n",
    "end\n",
    "traindata:div(traindata:std())\n",
    "--traindata:add(-traindata:mean())\n",
    "print(t:time().real)"
   ]
  },
  {
   "cell_type": "code",
   "execution_count": 6,
   "metadata": {
    "collapsed": false
   },
   "outputs": [],
   "source": [
    "for i = 1,0 do\n",
    "    print(test)\n",
    "end"
   ]
  },
  {
   "cell_type": "code",
   "execution_count": 7,
   "metadata": {
    "collapsed": false
   },
   "outputs": [],
   "source": [
    "enc = nn.Encoder(1,50,7)"
   ]
  },
  {
   "cell_type": "code",
   "execution_count": 8,
   "metadata": {
    "collapsed": false
   },
   "outputs": [],
   "source": [
    "dec = nn.ParallelTable()\n",
    "\n",
    "declin1 = nn.SpatialConvolution(50, 1, 7, 7)\n",
    "declin2 = nn.SpatialConvolution(50,1, 7, 7)\n",
    "\n",
    "decConv1 = nn.Sequential()\n",
    "decConv1:add(nn.SpatialZeroPadding(3,3,3,3))\n",
    "decConv1:add(declin1)\n",
    "\n",
    "decConv2 = nn.Sequential()\n",
    "decConv2:add(nn.SpatialZeroPadding(3,3,3,3))\n",
    "decConv2:add(declin2)\n",
    "\n",
    "declin1:share(declin2,'weight')\n",
    "declin1:share(declin2,'gradWeight')\n",
    "declin1.bias = torch.Tensor(1):zero()\n",
    "declin1.gradBias = torch.Tensor(1):zero() \n",
    "declin2.bias = torch.Tensor(1):zero()\n",
    "declin2.gradBias = torch.Tensor(1):zero() \n",
    "\n",
    "dec:add(decConv1)\n",
    "dec:add(decConv2)\n",
    "\n",
    "\n",
    "autoencoder = nn.Sequential()\n",
    "autoencoder:add(enc)\n",
    "autoencoder:add(dec)\n"
   ]
  },
  {
   "cell_type": "code",
   "execution_count": 9,
   "metadata": {
    "collapsed": false
   },
   "outputs": [],
   "source": [
    "criterion = nn.ParallelCriterion()\n",
    "\n",
    "xcrit = nn.MSECriterion() --compare x_in and x_out\n",
    "ycrit = nn.MSECriterion() --compare y_in and y_out\n",
    "\n",
    "criterion:add(xcrit,0.5)\n",
    "criterion:add(ycrit,0.5)\n"
   ]
  },
  {
   "cell_type": "code",
   "execution_count": 7,
   "metadata": {
    "collapsed": true
   },
   "outputs": [],
   "source": [
    "parameters, gradParameters = autoencoder:getParameters()"
   ]
  },
  {
   "cell_type": "code",
   "execution_count": 8,
   "metadata": {
    "collapsed": false
   },
   "outputs": [],
   "source": [
    "batchsize = 128\n",
    "config = {learningRate = 0.01,\n",
    "         weightDecay = 5e-5,\n",
    "         momentum = 0,\n",
    "         learningRateDecay = 5e-7}"
   ]
  },
  {
   "cell_type": "code",
   "execution_count": 9,
   "metadata": {
    "collapsed": true
   },
   "outputs": [],
   "source": [
    "for i = 1,3000,batchsize do\n",
    "    \n",
    "    local feval = function(x)\n",
    "        if x ~= parameters then\n",
    "            parameters:copy(x)\n",
    "        end\n",
    "\n",
    "        -- reset gradients\n",
    "        gradParameters:zero()\n",
    "        local f = 0 \n",
    "        for j = 0,batchsize-1 do            \n",
    "            local activity = traindata[i+j]\n",
    "           -- local phase = torch.Tensor(1,32,32):zero()\n",
    "            local phase = (torch.rand(1,32,32)*2*math.pi)-math.pi\n",
    "            local input = {torch.cmul(activity,torch.cos(phase)),torch.cmul(activity,torch.sin(phase)) }\n",
    "            for k = 1,30 do\n",
    "                input = {input[1],autoencoder:forward(input)[2]}\n",
    "            end\n",
    "            local target = input\n",
    "            local output = autoencoder:forward(input)\n",
    "            local err = criterion:forward(output,target) \n",
    "            local df_dw = criterion:backward(autoencoder.output,target)\n",
    "            f = f+err\n",
    "            autoencoder:backward(input,df_dw)\n",
    "        end\n",
    "        gradParameters:div(batchsize)\n",
    "        f = f/batchsize\n",
    "        return f, gradParameters\n",
    "    end \n",
    "    \n",
    "    optim.sgd(feval, parameters, config)\n",
    "\n",
    "    \n",
    "    declin1.bias = torch.Tensor(1):zero()\n",
    "    declin1.gradBias = torch.Tensor(1):zero()\n",
    "    declin2.bias = torch.Tensor(1):zero()\n",
    "    declin2.gradBias = torch.Tensor(1):zero()\n",
    "    enc.convBias = torch.Tensor(50):zero()\n",
    "    enc.convGradBias = torch.Tensor(50):zero()\n",
    "\n",
    "end "
   ]
  },
  {
   "cell_type": "code",
   "execution_count": 20,
   "metadata": {
    "collapsed": false
   },
   "outputs": [
    {
     "data": {
      "image/png": "[encoded data removed]",
      "text/plain": [
       "Console does not support images"
      ]
     },
     "metadata": {
      "image/png": {
       "height": 32,
       "width": 32
      }
     },
     "output_type": "display_data"
    },
    {
     "data": {
      "image/png": "[encoded data removed]",
      "text/plain": [
       "Console does not support images"
      ]
     },
     "metadata": {
      "image/png": {
       "height": 32,
       "width": 32
      }
     },
     "output_type": "display_data"
    },
    {
     "data": {
      "image/png": "[encoded data removed]",
      "text/plain": [
       "Console does not support images"
      ]
     },
     "metadata": {
      "image/png": {
       "height": 32,
       "width": 32
      }
     },
     "output_type": "display_data"
    },
    {
     "data": {
      "image/png": "[encoded data removed]",
      "text/plain": [
       "Console does not support images"
      ]
     },
     "metadata": {
      "image/png": {
       "height": 32,
       "width": 32
      }
     },
     "output_type": "display_data"
    },
    {
     "data": {
      "image/png": "[encoded data removed]",
      "text/plain": [
       "Console does not support images"
      ]
     },
     "metadata": {
      "image/png": {
       "height": 32,
       "width": 32
      }
     },
     "output_type": "display_data"
    },
    {
     "data": {
      "image/png": "[encoded data removed]",
      "text/plain": [
       "Console does not support images"
      ]
     },
     "metadata": {
      "image/png": {
       "height": 32,
       "width": 32
      }
     },
     "output_type": "display_data"
    },
    {
     "data": {
      "image/png": "[encoded data removed]",
      "text/plain": [
       "Console does not support images"
      ]
     },
     "metadata": {
      "image/png": {
       "height": 32,
       "width": 32
      }
     },
     "output_type": "display_data"
    },
    {
     "data": {
      "image/png": "[encoded data removed]",
      "text/plain": [
       "Console does not support images"
      ]
     },
     "metadata": {
      "image/png": {
       "height": 32,
       "width": 32
      }
     },
     "output_type": "display_data"
    },
    {
     "data": {
      "image/png": "[encoded data removed]",
      "text/plain": [
       "Console does not support images"
      ]
     },
     "metadata": {
      "image/png": {
       "height": 32,
       "width": 32
      }
     },
     "output_type": "display_data"
    },
    {
     "data": {
      "image/png": "[encoded data removed]",
      "text/plain": [
       "Console does not support images"
      ]
     },
     "metadata": {
      "image/png": {
       "height": 32,
       "width": 32
      }
     },
     "output_type": "display_data"
    },
    {
     "data": {
      "image/png": "[encoded data removed]",
      "text/plain": [
       "Console does not support images"
      ]
     },
     "metadata": {
      "image/png": {
       "height": 32,
       "width": 32
      }
     },
     "output_type": "display_data"
    },
    {
     "data": {
      "image/png": "[encoded data removed]",
      "text/plain": [
       "Console does not support images"
      ]
     },
     "metadata": {
      "image/png": {
       "height": 32,
       "width": 32
      }
     },
     "output_type": "display_data"
    }
   ],
   "source": [
    "activity = traindata[9001]\n",
    "phases = torch.Tensor(10,32,32)\n",
    "images = torch.Tensor(10,3,32,32)\n",
    "itorch.image(activity)\n",
    "\n",
    "for i = 1,10 do\n",
    "        \n",
    "    local phase = (torch.rand(1,32,32)*2*math.pi)---math.pi\n",
    "    local inp = {torch.cmul(activity,torch.cos(phase)),torch.cmul(activity,torch.sin(phase))}\n",
    "\n",
    "    local out = autoencoder:forward(inp)\n",
    "    local phase_out = torch.atan2(out[2],out[1])\n",
    "    \n",
    "    for j = 1,100 do\n",
    "        out = autoencoder:forward({torch.cmul(activity,torch.cos(phase_out)),torch.cmul(activity,torch.sin(phase_out))})\n",
    "        phase_out = torch.atan2(out[2],out[1])\n",
    "    end\n",
    "    \n",
    "    a_out = torch.sqrt( torch.pow(out[1],2) + torch.pow(out[2],2 ))\n",
    "\n",
    "\n",
    "    hsv = torch.Tensor(3,32,32)\n",
    "    hsv[1]:copy((phase_out+math.pi)/(2*math.pi))\n",
    "    hsv[2] = torch.Tensor(32,32):fill(0.5)\n",
    "    hsv[3] = torch.Tensor(32,32):fill(0.5)\n",
    "    rgb = image.hsv2rgb(hsv)\n",
    "\n",
    "    phases[i] = phase_out[1]\n",
    "    itorch.image(rgb)\n",
    "    images[i] = rgb\n",
    "\n",
    "    \n",
    "    \n",
    "end\n",
    "\n",
    "local phase_diff  = torch.Tensor(5,32,32)\n",
    "local j = 1\n",
    "for i = 1,9,2 do\n",
    "    phase_diff[j] = phases[i]-phases[i+1]\n",
    "    phase_diff[j] = phase_diff[j] - (torch.floor(phase_diff[j]/(2*math.pi))*(2*math.pi))\n",
    "    j = j+1\n",
    "\n",
    "end\n",
    "\n",
    "gnuplot.hist(phase_diff,100)\n",
    "itorch.image(a_out)"
   ]
  },
  {
   "cell_type": "code",
   "execution_count": 19,
   "metadata": {
    "collapsed": false
   },
   "outputs": [],
   "source": [
    "image.window()\n",
    "image.display{image=images[1],gui=true}"
   ]
  },
  {
   "cell_type": "code",
   "execution_count": 19,
   "metadata": {
    "collapsed": false
   },
   "outputs": [
    {
     "data": {
      "image/png": "[encoded data removed]",
      "text/plain": [
       "Console does not support images"
      ]
     },
     "metadata": {
      "image/png": {
       "height": 32,
       "width": 32
      }
     },
     "output_type": "display_data"
    }
   ],
   "source": [
    "     activity = traindata[9001]\n",
    "    local phase = torch.Tensor(1,32,32):zero()\n",
    "    local inp = {torch.cmul(activity,torch.cos(phase)),torch.cmul(activity,torch.sin(phase))}\n",
    "\n",
    "    local out = autoencoder:forward(inp)\n",
    "\n",
    "    local a = torch.sqrt( torch.pow(out[1],2) + torch.pow(out[2],2 ))\n",
    "    local phase_out = torch.atan2(out[2],out[1])\n",
    "    itorch.image(a)"
   ]
  },
  {
   "cell_type": "code",
   "execution_count": 13,
   "metadata": {
    "collapsed": true
   },
   "outputs": [
    {
     "data": {
      "text/plain": [
       "(1,1,.,.) = \n",
       " 0.01 *\n",
       "   1.2611 -0.8473 -1.2534  0.7667 -1.0197  1.3611  0.1587\n",
       "  -0.7366 -1.6457 -0.0911  1.6291  0.3968 -0.1716 -0.5913\n",
       "  -0.6480  0.2610 -0.5415  1.4744  1.1722  1.5255  1.5203\n",
       "   1.8299 -0.0868 -0.6398 -0.4011  1.9674  0.8577 -0.7744\n",
       "  -0.7175 -1.2351  0.9369 -0.1970  0.3153  0.0711 -0.0901\n",
       "  -1.0962  0.2300  1.5830 -0.4746 -0.4260 -1.1655 -0.2190\n",
       "  -1.5492 -0.0554 -2.3596 -0.4563 -0.2201  1.7692  1.2032\n",
       "\n",
       "(1,2,.,.) = \n",
       " 0.01 *\n",
       "   1.6101 -0.5464  0.9492 -0.3697 -0.6782  0.2501 -1.6372\n",
       "  -0.4758 -1.7697 -1.2595  1.1459  1.4326 -1.7626 -0.5471\n",
       "  -1.1027  1.2742 -1.8067  0.1646 -1.6907  1.6797  1.7350\n",
       "   0.2329 -0.0612  1.8025 -0.5294  0.7299  0.8680  0.6041\n",
       "  -1.8389 -0.5139  0.2940 -1.6801 -0.6721 -0.8408 -0.8556\n",
       "  -0.6766 -1.3886  1.3542  0.6130 -0.7359  0.9855 -0.7668\n",
       "  -1.4218 -1.7454  0.3516 -1.4241 -1.7007  0.1243 -1.1511\n",
       "\n",
       "(1,3,.,.) = \n",
       " 0.01 *\n",
       "   1.8772 -1.6216 -1.8290 -0.6319 -0.2625  1.1802  1.7949\n",
       "  -1.0072 -1.1139 -0.6564 -1.0278 -0.8202 -1.4313 -1.5928\n",
       "  -0.3104  1.5409  0.2811  1.6368 -0.5867  0.6001  0.1625\n",
       "   1.7350 -1.5704 -0.7692 -1.9817 -1.7800  0.4029 -1.5993\n",
       "   1.7874  0.4885  1.1058 -1.8515  1.7274  0.9092 -1.2383\n",
       "  -0.6045 -1.0567  1.4952 -0.3073 -1.9380 -1.2011 -1.9386\n",
       "   0.4223  0.2318 -1.4648  0.9154 -0.8089 -0.2983 -1.5124\n",
       "\n",
       "(1,4,.,.) = \n",
       " 0.01 *\n",
       "  -0.4826  2.0086 -0.0494  1.6071 -1.4103  1.5619 -0.5366\n",
       "   0.3777 -0.2928  1.4801  1.7573  0.5437 -0.9068  0.5762\n",
       "   2.4328  1.3452 -1.6328 -0.8702 -0.1451 -2.1346  0.7041\n",
       "   0.8990  1.6635  1.4207 -2.6903 -1.8255 -2.2320 -0.3892\n",
       "   1.5235 -1.2669  0.5232 -0.6084 -2.3163  0.0129  1.3983\n",
       "   0.5847 -0.1918 -1.6796  0.6663 -2.2868 -0.5673  0.7885\n",
       "   0.8099 -1.0016  0.7451 -0.3517 -0.3234 -2.1502  0.1835\n",
       "\n",
       "(1,5,.,.) = \n",
       " 0.01 *\n",
       "   1.1182  0.8402  0.3183 -0.7732 -0.2009  2.0812  0.0730\n",
       "  -0.0671 -0.2969 -1.4269  1.9720 -0.0053 -0.6236 -1.5878\n",
       "  -1.6805  0.5790  2.3949  0.2976  1.1334 -2.2921  1.6150\n",
       "  -0.4370 -0.8607  1.6090  0.9823 -0.4922 -0.8330  0.7269\n",
       "  -0.9493  0.7366  0.9440  0.9841 -0.6269  0.8007  1.8626\n",
       "   1.5517  1.0297  0.3920  1.6209 -0.6524 -0.2336  0.7380\n",
       "   2.0040  1.8653  2.1394  1.8139  1.8880  0.5674 -0.1010\n",
       "\n",
       "(1,6,.,.) = \n",
       " 0.01 *\n",
       "   1.0339  1.2911  1.3590 -1.2221  1.2290  0.8694 -1.0463\n",
       "   1.2876  0.2657  0.1131  1.9602  1.6130 -1.3095  1.5845\n",
       "  -0.4634 -0.6468 -0.3213  1.1991  1.6108 -0.0314  1.6520\n",
       "   2.0492 -1.6437  0.5555  0.9212  0.7266 -1.6479 -1.2864\n",
       "   1.9486 -0.9104 -1.0808 -0.7630  1.8968  0.9401 -0.7208\n",
       "   1.9718  0.1881  0.5128 -0.1604  1.6786  1.1924  0.9681\n",
       "   1.9132  1.4068 -1.4213  1.8885  0.6589 -1.9281 -1.5124\n",
       "\n",
       "(1,7,.,.) = \n",
       " 0.01 *\n",
       "   1.3387 -1.5447 -0.9742  0.6349  1.8703  0.2215 -1.3713\n",
       "  -0.2102 -1.6881 -2.0037 -0.5539  0.7177 -1.1153  0.1056\n",
       "   1.0997  0.1766  0.0603 -0.7923 -1.1290  2.2637  2.0436\n",
       "  -1.5663  1.7403 -2.1328  0.4677  0.8824 -0.8414  0.9826\n",
       "   0.3469  0.8788  0.7442 -0.0962  1.5744 -0.6192 -1.4426\n",
       "   0.9934 -1.1762 -1.1458 -0.1560  2.2375 -0.0793 -1.6356\n",
       "   1.7801 -1.2730  1.7421  1.0154 -0.0383 -1.6555  0.1386\n",
       "\n",
       "(1,8,.,.) = \n",
       " 0.01 *\n",
       "   0.6246 -0.3495  0.9748 -0.8578 -2.1314 -0.7280 -0.3088\n",
       "  -0.3592  1.3739  0.6196 -1.1015  1.1851 -0.8120  1.7292\n",
       "   0.8377 -1.3678  1.5435  1.1939 -2.0041 -2.0083  0.6240\n",
       "  -1.1077 -0.9250  1.6548 -0.7882  1.2646  1.2203 -1.0493\n",
       "   1.6543  2.4543 -0.8540 -1.8360  1.0015  0.5789 -1.4587\n",
       "   0.8700  1.9301  1.5300 -0.6370  0.0122  0.6298 -0.4886\n",
       "   0.5812  1.8064  1.2291 -0.3259  0.7273 -1.2494 -1.1045\n",
       "\n",
       "(1,9,.,.) = \n",
       " 0.01 *\n",
       "  -0.5955  1.6868 -1.1730  1.2707 -0.7496 -1.0082  1.0833\n",
       "  -1.3574  1.2959  1.1523 -0.0727 -0.8785  1.9624  1.8916\n",
       "   1.8842  0.8014 -2.0315  1.0747 -0.3847  0.1791 -0.3110\n",
       "  -1.4407  1.3709  0.3954  0.7182 -2.0205  0.1698  1.4466\n",
       "   1.0153  1.2096  0.7405 -0.9777 -1.8069  1.0858  2.0066\n",
       "   0.7032 -1.5719 -0.1895 -0.3513 -1.7896 -1.6237 -0.1831\n",
       "   1.1399  0.2405  0.3940 -1.2457 -0.8775 -1.0707  0.5098\n",
       "\n",
       "(1,10,.,.) = \n",
       " 0.01 *\n",
       "  -0.8308 -2.1587  1.7595 -1.9552  0.2723  1.4755  1.1598\n",
       "  -0.4716 -0.1586 -1.2461 -2.0729 -0.4939 -0.9513 -0.6501\n",
       "  -0.4890 -0.0952 -1.4078  0.0041  1.2875 -1.0494 -1.2721\n",
       "   0.0161 -0.8426 -1.4934  0.7991  0.8165  1.908"
      ]
     },
     "execution_count": 13,
     "metadata": {},
     "output_type": "execute_result"
    }
   ],
   "source": [
    "--print(enc.encoder:get(1):get(1):get(1):get(1):get(2).weight)\n",
    "print(autoencoder:get(2):get(1):get(2).weight)"
   ]
  },
  {
   "cell_type": "code",
   "execution_count": 14,
   "metadata": {
    "collapsed": true
   },
   "outputs": [
    {
     "data": {
      "text/plain": [
       "6  1.9858\n",
       "  -0.9962  1.8019 -1.8851  0.2030  1.2128 -1.2634 -0.6292\n",
       "  -0.1778  0.5443 -2.1044  1.1213 -0.1219 -0.3266  1.4611\n",
       "  -1.0861  1.2794  0.3924  1.5320  0.4565 -0.1686  0.7299\n",
       "\n",
       "(1,11,.,.) = \n",
       " 0.01 *\n",
       "   0.4799 -1.6517  0.0582 -1.5190  1.6428 -1.1342 -0.0874\n",
       "  -1.2776  0.9614 -1.3206 -0.5716  0.0562 -0.5593 -1.0238\n",
       "   2.3345  0.5107  0.3341 -0.9349 -1.5577 -1.3860 -1.5745\n",
       "   0.6236 -1.1512 -2.1527 -0.1789  0.7971 -2.1256  0.0590\n",
       "  -0.8844  0.9175 -1.0257  1.2393 -2.0490  1.0128 -0.0226\n",
       "  -1.6617  0.0194 -1.0597  1.7894 -1.5293  1.7678 -1.4696\n",
       "  -0.0736 -1.5320 -0.2938 -2.1113 -0.1244 -0.2499 -1.7239\n",
       "\n",
       "(1,12,.,.) = \n",
       " 0.01 *\n",
       "   1.3314  1.2040 -1.9310 -0.7910 -0.4195 -0.1134 -0.7005\n",
       "   1.5157  0.8768 -0.0160 -2.2324 -1.6072 -1.3685  1.5470\n",
       "  -1.3075  0.7276  0.1693  1.8989  1.6160  1.2094  2.2363\n",
       "  -0.7168  0.8390 -0.3433 -0.9300 -1.4302 -1.0635  0.4541\n",
       "  -2.4875 -0.1943  0.9981  0.8201  0.8437 -0.5696 -0.8091\n",
       "   0.5419 -1.7999  1.3894  1.3088  1.2824 -1.2196 -1.1695\n",
       "   0.0392 -1.0781 -1.9193  1.6056  2.7845  1.0395 -1.8505\n",
       "\n",
       "(1,13,.,.) = \n",
       " 0.01 *\n",
       "   0.4404  1.8395 -0.7432 -1.4401  0.1254 -1.3169 -0.7637\n",
       "   0.5573 -0.3550  0.1148 -0.2449  0.8739  0.8777 -1.5876\n",
       "   1.6809 -0.0179  0.1893 -0.0417 -2.2331  1.3674 -0.3163\n",
       "   1.0436  2.0797 -1.5472  0.7604 -1.5991 -1.4341  0.0151\n",
       "   1.9191 -0.5573  1.7874  0.7345  0.7929  2.1579  1.7078\n",
       "   2.1450  0.9712  1.6688  1.1145  1.2095 -0.6098  0.7937\n",
       "  -1.4846  0.7044 -1.7992  0.6251  1.7911 -0.2845 -0.9415\n",
       "\n",
       "(1,14,.,.) = \n",
       " 0.01 *\n",
       "   2.4620  1.7213  1.0788  0.4042  1.9931  1.3311 -1.7463\n",
       "   1.5968  0.2447  0.4271 -0.7604  1.2341 -1.8445 -1.6900\n",
       "   0.2261 -1.4206 -0.7959  0.6791 -2.1584  0.5254 -1.9027\n",
       "   1.7025 -0.2046  1.0059 -2.0691  1.0772  1.1289 -0.8145\n",
       "   1.1357  0.6666  1.6764 -0.4601  0.0304  1.1207  1.1236\n",
       "   0.4033  1.6928 -0.8519 -0.1132  0.0932  2.7777  1.8384\n",
       "  -1.1886 -0.6489  2.2949  1.2676  0.6113  0.4310  0.6298\n",
       "\n",
       "(1,15,.,.) = \n",
       " 0.01 *\n",
       "  -0.3657 -0.1912  1.1499  0.6965 -1.6438  0.6774 -0.7922\n",
       "  -2.2181 -1.4138 -1.2234 -1.3408 -1.7602 -0.1336  1.2796\n",
       "   0.6094  1.3338 -0.7438 -0.9700  0.9773 -0.9150  0.9836\n",
       "  -2.0279 -0.6144  0.1717  0.7788  1.0511  0.9669  1.3195\n",
       "   0.8467  2.3823  2.4145 -0.9777  1.3548  0.1216 -0.9482\n",
       "  -1.2840 -1.1981  1.2605  1.7862  0.7947 -0.7390 -0.8633\n",
       "   1.6136  1.0284  0.2589  0.2068  0.3874 -0.8231  0.8816\n",
       "\n",
       "(1,16,.,.) = \n",
       " 0.01 *\n",
       "  -0.0661 -0.6908  0.0001 -1.8915 -2.4883 -0.1971  2.1900\n",
       "  -1.5646  1.5496  0.4574  1.6827  1.9170  0.2121 -0.6957\n",
       "   1.1823  0.0466  2.4916  0.4996  1.0034  0.4297  0.9679\n",
       "   0.5997  1.4429  2.5417 -0.3851 -0.6475  0.2728 -1.3091\n",
       "  -0.6572  0.6630  1.3603  1.1162  0.6687 -0.4645 -0.3878\n",
       "   1.4014 -1.3227  3.2712 -0.2524  0.7236  0.6334  0.3617\n",
       "   0.2960  1.7054  1.1959 -0.0744  1.2553 -0.2553 -0.5556\n",
       "\n",
       "(1,17,.,.) = \n",
       " 0.01 *\n",
       "   0.5190 -0.2517  0.4196 -0.9029 -1.5459  0.0134  0.1100\n",
       "  -1.9676  0.1314  1.6061  1.3763  1.0192 -2.3201 -0.9539\n",
       "  -1.3250 -0.5316  1.0372  0.8447 -0.6441 -1.1527  0.3836\n",
       "  -0.4107  1.3140 -0.4258 -0.5680  1.4224  0.3470 -1.5698\n",
       "  -0.1741 -1.5796  0.0787  1.9294  1.7662 -0.9967 -1.3125\n",
       "  -0.4448  0.3678 -0.8439  0.4964 -0.7450  0.3734  0.9479\n",
       "  -0.9673  1.1625 -1.1391  0.8650 -1.5252  0.6000  0.5767\n",
       "\n",
       "(1,18,.,.) = \n",
       " 0.01 *\n",
       "   2.6480 -0.2007  0.9388  1.6522 -1.4711  0.7405  1.2371\n",
       "   0.4474  0.4621 -0.2954  1.5336  1.7981 -1.9094  0.5755\n",
       "  -1.5437  0.5213 -1.6108  1.6571  0.2187  0.1943  1.4558\n",
       "  -0.7159  2.5921 -1.1065 -1.2933  0.7969  0.5879 -0.6784\n",
       "   2.0943 -0.2461  0.1218 -3.0661 -0.9634 -0.8180  1.9518\n",
       "   0.3369  1.4912  0.1748  0.8926 -2.4285 -0.0579  0.2825\n",
       "  -0.8009 -0.9916  1.6444  0.6613 -2.1598  1.0791 -0.2008\n",
       "\n",
       "(1,19,.,.) = \n",
       " 0.01 *\n",
       "   0.7040 -0.2500 -0.9444  0.0136  0.6142 -0.8434 -0.4026\n",
       "  -0.4985 -0.8353  0.6101 -0.3075 -1.7806  1.6028 -0.2693\n",
       "   2.4513  1.3179 -1.1344 -1.5632  0.9029 -2.0461 -2.0984\n",
       "   1.7115 -1.7997  0.5622  1.4101 -0.9770 -1.6175 -2.1554\n",
       "  -1.5967 -2.5327 -0.3457  0.2094  1.3587 -0.7880  1.5863\n",
       "  -0.8145 -2.4887  1.0820 -1.4028 -0.7018 -0.3410 -0.7037\n",
       "  -0.9293  1.0629  0.5170  1.3716 -1.1608 -0.3837 -0.0983\n",
       "\n",
       "(1,20,.,.) = \n",
       " 0.01 *\n",
       "   0.6747 -0.8057  0.0572  0"
      ]
     },
     "execution_count": 14,
     "metadata": {},
     "output_type": "execute_result"
    },
    {
     "ename": "[string \"print(a:get(2):get(1):get(2).weight)...\"]:1: attempt to index global 'a' (a nil value)\nstack traceback:\n\t[string \"print(a:get(2):get(1):get(2).weight)...\"]:1: in main chunk\n\t[C]: in function 'xpcall'\n\t...bp/projects/phasesim/local/share/lua/5.1/itorch/main.lua:177: in function <...bp/projects/phasesim/local/share/lua/5.1/itorch/main.lua:143>\n\t...bp/projects/phasesim/local/share/lua/5.1/lzmq/poller.lua:75: in function 'poll'\n\t...projects/phasesim/local/share/lua/5.1/lzmq/impl/loop.lua:307: in function 'poll'\n\t...projects/phasesim/local/share/lua/5.1/lzmq/impl/loop.lua:325: in function 'sleep_ex'\n\t...projects/phasesim/local/share/lua/5.1/lzmq/impl/loop.lua:370: in function 'start'\n\t...bp/projects/phasesim/local/share/lua/5.1/itorch/main.lua:344: in main chunk\n\t[C]: in function 'require'\n\t[string \"arg={'/net/home/student/k/kstandvoss/.ipython...\"]:1: in main chunk",
     "evalue": "",
     "output_type": "error",
     "traceback": [
      "[string \"print(a:get(2):get(1):get(2).weight)...\"]:1: attempt to index global 'a' (a nil value)\nstack traceback:\n\t[string \"print(a:get(2):get(1):get(2).weight)...\"]:1: in main chunk\n\t[C]: in function 'xpcall'\n\t...bp/projects/phasesim/local/share/lua/5.1/itorch/main.lua:177: in function <...bp/projects/phasesim/local/share/lua/5.1/itorch/main.lua:143>\n\t...bp/projects/phasesim/local/share/lua/5.1/lzmq/poller.lua:75: in function 'poll'\n\t...projects/phasesim/local/share/lua/5.1/lzmq/impl/loop.lua:307: in function 'poll'\n\t...projects/phasesim/local/share/lua/5.1/lzmq/impl/loop.lua:325: in function 'sleep_ex'\n\t...projects/phasesim/local/share/lua/5.1/lzmq/impl/loop.lua:370: in function 'start'\n\t...bp/projects/phasesim/local/share/lua/5.1/itorch/main.lua:344: in main chunk\n\t[C]: in function 'require'\n\t[string \"arg={'/net/home/student/k/kstandvoss/.ipython...\"]:1: in main chunk"
     ]
    }
   ],
   "source": [
    "print(a:get(2):get(1):get(2).weight)"
   ]
  },
  {
   "cell_type": "code",
   "execution_count": 53,
   "metadata": {
    "collapsed": false
   },
   "outputs": [
    {
     "data": {
      "image/png": "[encoded data removed]",
      "text/plain": [
       "Console does not support images"
      ]
     },
     "metadata": {
      "image/png": {
       "height": 32,
       "width": 32
      }
     },
     "output_type": "display_data"
    }
   ],
   "source": [
    "corrupted = torch.cmul(activity,randomkit.binomial(torch.Tensor(#activity),1,0.8))\n",
    "itorch.image(corrupted)"
   ]
  },
  {
   "cell_type": "code",
   "execution_count": 39,
   "metadata": {
    "collapsed": false
   },
   "outputs": [
    {
     "data": {
      "text/plain": [
       "testbla\t\n"
      ]
     },
     "execution_count": 39,
     "metadata": {},
     "output_type": "execute_result"
    }
   ],
   "source": [
    "print('test' .. 'bla')"
   ]
  },
  {
   "cell_type": "code",
   "execution_count": 38,
   "metadata": {
    "collapsed": false,
    "scrolled": true
   },
   "outputs": [
    {
     "data": {
      "text/plain": [
       "0.68293357241571\t\n"
      ]
     },
     "execution_count": 38,
     "metadata": {},
     "output_type": "execute_result"
    }
   ],
   "source": [
    "phi = phases[8][torch.gt(activity,0)]\n",
    "var = 1 - (1/phi:size(1))*(torch.sum(torch.cos(phi))^2 + torch.sum(torch.cos(phi))^2)\n",
    "print(var)"
   ]
  },
  {
   "cell_type": "code",
   "execution_count": null,
   "metadata": {
    "collapsed": true
   },
   "outputs": [],
   "source": []
  }
 ],
 "metadata": {
  "kernelspec": {
   "display_name": "iTorch",
   "language": "lua",
   "name": "itorch"
  },
  "language_info": {
   "name": "lua",
   "version": "20003"
  }
 },
 "nbformat": 4,
 "nbformat_minor": 0
}
