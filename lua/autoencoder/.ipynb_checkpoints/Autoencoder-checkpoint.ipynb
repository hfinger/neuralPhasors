{
 "cells": [
  {
   "cell_type": "code",
   "execution_count": 1,
   "metadata": {
    "collapsed": false
   },
   "outputs": [],
   "source": [
    "require 'unsup';\n",
    "require 'nn';\n",
    "require 'gnuplot';\n",
    "require 'ComplexAutoencoder/src/Encoder';\n",
    "require 'ComplexAutoencoder/src/Decoder';\n",
    "require 'nngraph';\n",
    "require 'image';\n",
    "require 'optim';\n",
    "require 'randomkit'"
   ]
  },
  {
   "cell_type": "code",
   "execution_count": 2,
   "metadata": {
    "collapsed": false
   },
   "outputs": [],
   "source": [
    "n_hidden = 50\n",
    "n_input = 32*32"
   ]
  },
  {
   "cell_type": "code",
   "execution_count": 3,
   "metadata": {
    "collapsed": false,
    "scrolled": true
   },
   "outputs": [
    {
     "data": {
      "text/plain": [
       "0.3979320526123\t\n"
      ]
     },
     "execution_count": 3,
     "metadata": {},
     "output_type": "execute_result"
    }
   ],
   "source": [
    "t = torch.Timer()\n",
    "train = torch.load('mnist.t7/train_32x32.t7', 'ascii')\n",
    "test = torch.load('mnist.t7/test_32x32.t7', 'ascii')\n",
    "train = train.data\n",
    "\n",
    "traindata = torch.Tensor(train:size()[1],1,32,32)\n",
    "for i = 1,train:size()[1] do   \n",
    "   traindata[i] = train[i]\n",
    "end\n",
    "traindata:div(traindata:std())\n",
    "--traindata:add(-traindata:mean())\n",
    "print(t:time().real)"
   ]
  },
  {
   "cell_type": "code",
   "execution_count": 4,
   "metadata": {
    "collapsed": false
   },
   "outputs": [],
   "source": [
    "\n",
    "\n",
    "enc1 = nn.Encoder(1,50,7,5e-4)\n",
    "enc2 = nn.Encoder(50*32*32,10,7,5e-4,true)\n",
    "dec = nn.Decoder(10,1,7)\n",
    "autoencoder = nn.Sequential()\n",
    "autoencoder:add(enc1)\n",
    "autoencoder:add(enc2)\n",
    "autoencoder:add(dec)\n",
    "--autoencoder = torch.load('ComplexAutoencoder/model2400.net')"
   ]
  },
  {
   "cell_type": "code",
   "execution_count": 7,
   "metadata": {
    "collapsed": false
   },
   "outputs": [
    {
     "ename": ".../nbp/projects/phasesim/local/share/lua/5.1/nn/Linear.lua:54: input must be vector or matrix\nstack traceback:\n\t[C]: in function 'error'\n\t.../nbp/projects/phasesim/local/share/lua/5.1/nn/Linear.lua:54: in function 'updateOutput'\n\t.../projects/phasesim/local/share/lua/5.1/nn/Sequential.lua:44: in function 'updateOutput'\n\t...ojects/phasesim/local/share/lua/5.1/nn/ParallelTable.lua:12: in function 'updateOutput'\n\t.../projects/phasesim/local/share/lua/5.1/nn/Sequential.lua:44: in function 'updateOutput'\n\t...projects/phasesim/local/share/lua/5.1/nn/ConcatTable.lua:11: in function 'updateOutput'\n\t.../projects/phasesim/local/share/lua/5.1/nn/Sequential.lua:44: in function 'forward'\n\t./ComplexAutoencoder/src/Encoder.lua:28: in function 'updateOutput'\n\t.../projects/phasesim/local/share/lua/5.1/nn/Sequential.lua:44: in function 'forward'\n\t[string \" activity = traindata[9001]...\"]:6: in main chunk\n\t[C]: in function 'xpcall'\n\t...bp/projects/phasesim/local/share/lua/5.1/itorch/main.lua:177: in function <...bp/projects/phasesim/local/share/lua/5.1/itorch/main.lua:143>\n\t...bp/projects/phasesim/local/share/lua/5.1/lzmq/poller.lua:75: in function 'poll'\n\t...projects/phasesim/local/share/lua/5.1/lzmq/impl/loop.lua:307: in function 'poll'\n\t...projects/phasesim/local/share/lua/5.1/lzmq/impl/loop.lua:325: in function 'sleep_ex'\n\t...projects/phasesim/local/share/lua/5.1/lzmq/impl/loop.lua:370: in function 'start'\n\t...bp/projects/phasesim/local/share/lua/5.1/itorch/main.lua:344: in main chunk\n\t[C]: in function 'require'\n\t[string \"arg={'/net/home/student/k/kstandvoss/.ipython...\"]:1: in main chunk",
     "evalue": "",
     "output_type": "error",
     "traceback": [
      ".../nbp/projects/phasesim/local/share/lua/5.1/nn/Linear.lua:54: input must be vector or matrix\nstack traceback:\n\t[C]: in function 'error'\n\t.../nbp/projects/phasesim/local/share/lua/5.1/nn/Linear.lua:54: in function 'updateOutput'\n\t.../projects/phasesim/local/share/lua/5.1/nn/Sequential.lua:44: in function 'updateOutput'\n\t...ojects/phasesim/local/share/lua/5.1/nn/ParallelTable.lua:12: in function 'updateOutput'\n\t.../projects/phasesim/local/share/lua/5.1/nn/Sequential.lua:44: in function 'updateOutput'\n\t...projects/phasesim/local/share/lua/5.1/nn/ConcatTable.lua:11: in function 'updateOutput'\n\t.../projects/phasesim/local/share/lua/5.1/nn/Sequential.lua:44: in function 'forward'\n\t./ComplexAutoencoder/src/Encoder.lua:28: in function 'updateOutput'\n\t.../projects/phasesim/local/share/lua/5.1/nn/Sequential.lua:44: in function 'forward'\n\t[string \" activity = traindata[9001]...\"]:6: in main chunk\n\t[C]: in function 'xpcall'\n\t...bp/projects/phasesim/local/share/lua/5.1/itorch/main.lua:177: in function <...bp/projects/phasesim/local/share/lua/5.1/itorch/main.lua:143>\n\t...bp/projects/phasesim/local/share/lua/5.1/lzmq/poller.lua:75: in function 'poll'\n\t...projects/phasesim/local/share/lua/5.1/lzmq/impl/loop.lua:307: in function 'poll'\n\t...projects/phasesim/local/share/lua/5.1/lzmq/impl/loop.lua:325: in function 'sleep_ex'\n\t...projects/phasesim/local/share/lua/5.1/lzmq/impl/loop.lua:370: in function 'start'\n\t...bp/projects/phasesim/local/share/lua/5.1/itorch/main.lua:344: in main chunk\n\t[C]: in function 'require'\n\t[string \"arg={'/net/home/student/k/kstandvoss/.ipython...\"]:1: in main chunk"
     ]
    }
   ],
   "source": [
    " activity = traindata[9001]\n",
    "local phase = torch.Tensor(1,32,32):zero()\n",
    "inp = {torch.cmul(activity,torch.cos(phase)),torch.cmul(activity,torch.sin(phase))}\n",
    "\n",
    "t = torch.Timer()\n",
    "local out = autoencoder:forward(inp)\n",
    "print(t:time().real)\n",
    "local a = torch.sqrt( torch.pow(out[1],2) + torch.pow(out[2],2 ))\n",
    "local phase_out = torch.atan2(out[2],out[1])\n",
    "itorch.image(a)"
   ]
  },
  {
   "cell_type": "code",
   "execution_count": 19,
   "metadata": {
    "collapsed": false
   },
   "outputs": [
    {
     "ename": ".../nbp/projects/phasesim/local/share/lua/5.1/nn/Linear.lua:39: size mismatch, [10 x 50], [51200] at /tmp/luarocks_torch-scm-1-2571/torch7/lib/TH/generic/THTensorMath.c:608\nstack traceback:\n\t[C]: in function 'addmv'\n\t.../nbp/projects/phasesim/local/share/lua/5.1/nn/Linear.lua:39: in function 'updateOutput'\n\t.../projects/phasesim/local/share/lua/5.1/nn/Sequential.lua:44: in function 'updateOutput'\n\t...ojects/phasesim/local/share/lua/5.1/nn/ParallelTable.lua:12: in function 'updateOutput'\n\t.../projects/phasesim/local/share/lua/5.1/nn/Sequential.lua:44: in function 'updateOutput'\n\t...projects/phasesim/local/share/lua/5.1/nn/ConcatTable.lua:11: in function 'updateOutput'\n\t.../projects/phasesim/local/share/lua/5.1/nn/Sequential.lua:44: in function 'forward'\n\t./ComplexAutoencoder/src/Encoder.lua:28: in function 'forward'\n\t[string \"a = nn.Reshape(50*32*32):forward(enc1:forward...\"]:3: in main chunk\n\t[C]: in function 'xpcall'\n\t...bp/projects/phasesim/local/share/lua/5.1/itorch/main.lua:177: in function <...bp/projects/phasesim/local/share/lua/5.1/itorch/main.lua:143>\n\t...bp/projects/phasesim/local/share/lua/5.1/lzmq/poller.lua:75: in function 'poll'\n\t...projects/phasesim/local/share/lua/5.1/lzmq/impl/loop.lua:307: in function 'poll'\n\t...projects/phasesim/local/share/lua/5.1/lzmq/impl/loop.lua:325: in function 'sleep_ex'\n\t...projects/phasesim/local/share/lua/5.1/lzmq/impl/loop.lua:370: in function 'start'\n\t...bp/projects/phasesim/local/share/lua/5.1/itorch/main.lua:344: in main chunk\n\t[C]: in function 'require'\n\t[string \"arg={'/net/home/student/k/kstandvoss/.ipython...\"]:1: in main chunk",
     "evalue": "",
     "output_type": "error",
     "traceback": [
      ".../nbp/projects/phasesim/local/share/lua/5.1/nn/Linear.lua:39: size mismatch, [10 x 50], [51200] at /tmp/luarocks_torch-scm-1-2571/torch7/lib/TH/generic/THTensorMath.c:608\nstack traceback:\n\t[C]: in function 'addmv'\n\t.../nbp/projects/phasesim/local/share/lua/5.1/nn/Linear.lua:39: in function 'updateOutput'\n\t.../projects/phasesim/local/share/lua/5.1/nn/Sequential.lua:44: in function 'updateOutput'\n\t...ojects/phasesim/local/share/lua/5.1/nn/ParallelTable.lua:12: in function 'updateOutput'\n\t.../projects/phasesim/local/share/lua/5.1/nn/Sequential.lua:44: in function 'updateOutput'\n\t...projects/phasesim/local/share/lua/5.1/nn/ConcatTable.lua:11: in function 'updateOutput'\n\t.../projects/phasesim/local/share/lua/5.1/nn/Sequential.lua:44: in function 'forward'\n\t./ComplexAutoencoder/src/Encoder.lua:28: in function 'forward'\n\t[string \"a = nn.Reshape(50*32*32):forward(enc1:forward...\"]:3: in main chunk\n\t[C]: in function 'xpcall'\n\t...bp/projects/phasesim/local/share/lua/5.1/itorch/main.lua:177: in function <...bp/projects/phasesim/local/share/lua/5.1/itorch/main.lua:143>\n\t...bp/projects/phasesim/local/share/lua/5.1/lzmq/poller.lua:75: in function 'poll'\n\t...projects/phasesim/local/share/lua/5.1/lzmq/impl/loop.lua:307: in function 'poll'\n\t...projects/phasesim/local/share/lua/5.1/lzmq/impl/loop.lua:325: in function 'sleep_ex'\n\t...projects/phasesim/local/share/lua/5.1/lzmq/impl/loop.lua:370: in function 'start'\n\t...bp/projects/phasesim/local/share/lua/5.1/itorch/main.lua:344: in main chunk\n\t[C]: in function 'require'\n\t[string \"arg={'/net/home/student/k/kstandvoss/.ipython...\"]:1: in main chunk"
     ]
    }
   ],
   "source": [
    "a = nn.Reshape(50*32*32):forward(enc1:forward(inp)[1])\n",
    "b = nn.Reshape(50*32*32):forward(enc1:forward(inp)[2])\n",
    "enc2:forward({a,b})\n",
    "--print(autoencoder,:get(1).encoder:get(1):get(1):get(1):get(2):get(2).weight)"
   ]
  },
  {
   "cell_type": "code",
   "execution_count": null,
   "metadata": {
    "collapsed": true
   },
   "outputs": [],
   "source": []
  }
 ],
 "metadata": {
  "kernelspec": {
   "display_name": "iTorch",
   "language": "lua",
   "name": "itorch"
  },
  "language_info": {
   "name": "lua",
   "version": "20003"
  }
 },
 "nbformat": 4,
 "nbformat_minor": 0
}
