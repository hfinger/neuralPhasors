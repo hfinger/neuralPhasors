{
 "cells": [
  {
   "cell_type": "code",
   "execution_count": 1,
   "metadata": {
    "collapsed": false
   },
   "outputs": [],
   "source": [
    "require 'unsup';"
   ]
  },
  {
   "cell_type": "code",
   "execution_count": 2,
   "metadata": {
    "collapsed": false
   },
   "outputs": [],
   "source": [
    "require 'nn';"
   ]
  },
  {
   "cell_type": "code",
   "execution_count": 3,
   "metadata": {
    "collapsed": false
   },
   "outputs": [],
   "source": [
    "require 'gnuplot';"
   ]
  },
  {
   "cell_type": "code",
   "execution_count": 4,
   "metadata": {
    "collapsed": false
   },
   "outputs": [],
   "source": [
    "require 'Atan2';\n",
    "require 'Sin';\n",
    "require 'Cos';"
   ]
  },
  {
   "cell_type": "code",
   "execution_count": 5,
   "metadata": {
    "collapsed": false
   },
   "outputs": [],
   "source": [
    "require 'nngraph';"
   ]
  },
  {
   "cell_type": "code",
   "execution_count": 6,
   "metadata": {
    "collapsed": true
   },
   "outputs": [],
   "source": [
    "require 'image';"
   ]
  },
  {
   "cell_type": "code",
   "execution_count": 7,
   "metadata": {
    "collapsed": false
   },
   "outputs": [],
   "source": [
    "n_hidden = 50\n",
    "n_input = 32*32"
   ]
  },
  {
   "cell_type": "code",
   "execution_count": 8,
   "metadata": {
    "collapsed": false
   },
   "outputs": [],
   "source": [
    "train = torch.load('mnist.t7/train_32x32.t7', 'ascii')\n",
    "test = torch.load('mnist.t7/test_32x32.t7', 'ascii')\n",
    "train = train.data"
   ]
  },
  {
   "cell_type": "code",
   "execution_count": 9,
   "metadata": {
    "collapsed": false,
    "scrolled": true
   },
   "outputs": [],
   "source": [
    "traindata = torch.Tensor(train:size()[1],1,32,32)\n",
    "for i = 1,train:size()[1] do   \n",
    "   traindata[i] = train[i]\n",
    "end\n",
    "traindata:add(-traindata:mean())\n",
    "traindata:div(traindata:std())"
   ]
  },
  {
   "cell_type": "code",
   "execution_count": 92,
   "metadata": {
    "collapsed": false
   },
   "outputs": [],
   "source": [
    "enc = nn.Sequential()\n",
    "encpar = nn.ConcatTable()\n",
    "\n",
    "--imaginary activation part\n",
    "img = nn.Sequential()\n",
    "\n",
    "par1 = nn.ParallelTable()\n",
    "\n",
    "linear1 = nn.SpatialConvolution(1, 50, 15, 15)\n",
    "linear2 = nn.SpatialConvolution(1, 50, 15, 15)\n",
    "linear1:share(linear2,'weight')\n",
    "linear1.bias = torch.Tensor(50):zero()\n",
    "linear2.bias = torch.Tensor(50):zero()\n",
    "\n",
    "conv1 = nn.Sequential()\n",
    "conv1:add(nn.SpatialZeroPadding(7,7,7,7))\n",
    "conv1:add(linear1)\n",
    "conv2 = nn.Sequential()\n",
    "conv2:add(nn.SpatialZeroPadding(7,7,7,7))\n",
    "conv2:add(linear2)\n",
    "\n",
    "par1:add(conv1) -- w*x\n",
    "par1:add(conv2) -- w*y\n",
    "\n",
    "img:add(par1)\n",
    "\n",
    "partable = nn.ConcatTable()\n",
    "\n",
    "seq1 = nn.Sequential()\n",
    "par2 = nn.ParallelTable()\n",
    "\n",
    "par2:add(nn.Square()) -- (wx)^2\n",
    "par2:add(nn.Square()) -- (wy)^2\n",
    "\n",
    "seq1:add(par2)\n",
    "seq1:add(nn.CAddTable()) -- (wx)^2 + (wy)^2\n",
    "seq1:add(nn.Sqrt()) \n",
    "seq1:add(nn.MulConstant(0.5,true))\n",
    "\n",
    "\n",
    "\n",
    "phase = nn.Sequential()\n",
    "phase:add(nn.Atan2())\n",
    "\n",
    "\n",
    "partable:add(phase) -- atan(wy,wx)\n",
    "partable:add(seq1)\n",
    "\n",
    "img:add(partable)\n",
    "\n",
    "\n",
    "--real activation part\n",
    "real = nn.Sequential()\n",
    "\n",
    "par2 = nn.ParallelTable()\n",
    "\n",
    "par2:add(nn.Square())\n",
    "par2:add(nn.Square())\n",
    "\n",
    "\n",
    "real:add(par2)\n",
    "real:add(nn.CAddTable())  -- x^2 + y^2\n",
    "real:add(nn.Sqrt())\n",
    "\n",
    "linear3 = nn.SpatialConvolution(1, 50, 15, 15)\n",
    "linear3:share(linear1,'weight')\n",
    "linear3.bias = torch.Tensor(50):zero()\n",
    "\n",
    "conv3 = nn.Sequential()\n",
    "conv3:add(nn.SpatialZeroPadding(7,7,7,7))\n",
    "conv3:add(linear3)\n",
    "\n",
    "real:add(conv3)\n",
    "real:add(nn.MulConstant(0.5,true))\n",
    "\n",
    "--\n",
    "encpar:add(img)\n",
    "encpar:add(real)\n",
    "\n",
    "enc:add(encpar)\n",
    "enc:add(nn.FlattenTable())\n",
    "-------------------------------------------------\n",
    "seperate = nn.ConcatTable()\n",
    "\n",
    "--select first column, i.e. phase\n",
    "\n",
    "seperate:add(nn.SelectTable(1))\n",
    "\n",
    "--select second and third column and add them up\n",
    "activation = nn.Sequential()\n",
    "concat = nn.ConcatTable()\n",
    "concat:add(nn.SelectTable(2))                       --Magic in order to seperate and rejoin table \n",
    "concat:add(nn.SelectTable(3))\n",
    "\n",
    "activation:add(concat)\n",
    "activation:add(nn.CAddTable()) -- add imaginary and real part\n",
    "\n",
    "seperate:add(activation)\n",
    "\n",
    "enc:add(seperate)\n",
    "-------------------------------------------------\n",
    "\n",
    "sigmoid = nn.ParallelTable()\n",
    "sigmoid:add(nn.Identity())\n",
    "sigmoid:add(nn.Sigmoid()) -- use sigmoid activation function\n",
    "\n",
    "enc:add(sigmoid)\n",
    "\n",
    "--  Transform back to coordinate form\n",
    "transform = nn.ConcatTable()\n",
    "x = nn.Sequential()\n",
    "y = nn.Sequential()\n",
    "\n",
    "xpar = nn.ParallelTable()\n",
    "ypar = nn.ParallelTable()\n",
    "\n",
    "xpar:add(nn.Cos())\n",
    "xpar:add(nn.Identity())\n",
    "\n",
    "ypar:add(nn.Sin())\n",
    "ypar:add(nn.Identity())\n",
    "\n",
    "x:add(xpar)\n",
    "x:add(nn.CMulTable())\n",
    "\n",
    "y:add(ypar)\n",
    "y:add(nn.CMulTable())\n",
    "\n",
    "transform:add(x)\n",
    "transform:add(y)\n",
    "enc:add(transform)\n",
    "--outputs a table\n",
    "--first dimension = x\n",
    "--second = y"
   ]
  },
  {
   "cell_type": "code",
   "execution_count": 93,
   "metadata": {
    "collapsed": false
   },
   "outputs": [],
   "source": [
    "dec = nn.ParallelTable()\n",
    "\n",
    "declin1 = nn.SpatialConvolution(50, 1, 15, 15)\n",
    "declin2 = nn.SpatialConvolution(50,1, 15, 15)\n",
    "\n",
    "decConv1 = nn.Sequential()\n",
    "decConv1:add(nn.SpatialZeroPadding(7,7,7,7))\n",
    "decConv1:add(declin1)\n",
    "\n",
    "decConv2 = nn.Sequential()\n",
    "decConv2:add(nn.SpatialZeroPadding(7,7,7,7))\n",
    "decConv2:add(declin2)\n",
    "\n",
    "declin1:share(declin2,'weight')\n",
    "declin1.bias = torch.Tensor(1):zero()\n",
    "declin2.bias = torch.Tensor(1):zero()\n",
    "\n",
    "dec:add(decConv1)\n",
    "dec:add(decConv2)\n",
    "\n",
    "autoencoder = nn.Sequential()\n",
    "autoencoder:add(enc)\n",
    "autoencoder:add(dec)\n"
   ]
  },
  {
   "cell_type": "code",
   "execution_count": 12,
   "metadata": {
    "collapsed": false
   },
   "outputs": [],
   "source": [
    "criterion = nn.ParallelCriterion()\n",
    "\n",
    "xcrit = nn.MSECriterion() --compare x_in and x_out\n",
    "ycrit = nn.MSECriterion() --compare y_in and y_out\n",
    "\n",
    "criterion:add(xcrit,0.5)\n",
    "criterion:add(ycrit,0.5)\n"
   ]
  },
  {
   "cell_type": "code",
   "execution_count": 94,
   "metadata": {
    "collapsed": false
   },
   "outputs": [],
   "source": [
    "for i = 1,1000 do\n",
    "\n",
    "--    local input_batch = {}\n",
    "--    local target_batch = {}\n",
    "--    for j = 1,50 do     \n",
    "--        table.insert(input_batch,data[j]:clone())\n",
    "--        table.insert(target_batch,data[j]:clone())\n",
    "--    end\n",
    "    \n",
    "    local input = {traindata[i],torch.Tensor(traindata[i]:size()):zero()}\n",
    "    local target = input\n",
    "   \n",
    "    criterion:forward(autoencoder:forward(input),target) \n",
    "    autoencoder:zeroGradParameters()\n",
    "    autoencoder:backward(input,criterion:backward(autoencoder.output,target))\n",
    "    autoencoder:updateParameters(0.01)\n",
    "    declin1.bias = torch.Tensor(1):zero()\n",
    "    declin1.gradBias = torch.Tensor(1):zero()\n",
    "    declin2.bias = torch.Tensor(1):zero()\n",
    "    declin2.gradBias = torch.Tensor(1):zero()\n",
    "    linear1.bias = torch.Tensor(50):zero()\n",
    "    linear1.gradBias = torch.Tensor(50):zero()\n",
    "    linear2.bias = torch.Tensor(50):zero()\n",
    "    linear2.gradBias = torch.Tensor(50):zero()\n",
    "    linear3.bias = torch.Tensor(50):zero()\n",
    "    linear3.gradBias = torch.Tensor(50):zero()\n",
    "end\n"
   ]
  },
  {
   "cell_type": "code",
   "execution_count": 113,
   "metadata": {
    "collapsed": true
   },
   "outputs": [],
   "source": [
    "for i = 401,800 do\n",
    "\n",
    "--    local input_batch = {}\n",
    "--    local target_batch = {}\n",
    "--    for j = 1,50 do     \n",
    "--        table.insert(input_batch,data[j]:clone())\n",
    "--        table.insert(target_batch,data[j]:clone())\n",
    "--    end\n",
    "    \n",
    "    local activity = traindata[i]\n",
    "    local phase = (torch.rand(1,32,32)*2*math.pi)-math.pi\n",
    "    local input = {torch.cmul(activity,torch.cos(phase)),torch.cmul(activity,torch.sin(phase)) }    \n",
    "    input = {input[1],autoencoder:forward(input)[2]}\n",
    "    local target = input\n",
    "   \n",
    "    criterion:forward(autoencoder:forward(input),target) \n",
    "    autoencoder:zeroGradParameters()\n",
    "    autoencoder:backward(input,criterion:backward(autoencoder.output,target))\n",
    "    autoencoder:updateParameters(0.01)\n",
    "    declin1.bias = torch.Tensor(1):zero()\n",
    "    declin1.gradBias = torch.Tensor(1):zero()\n",
    "    declin2.bias = torch.Tensor(1):zero()\n",
    "    declin2.gradBias = torch.Tensor(1):zero()\n",
    "    linear1.bias = torch.Tensor(50):zero()\n",
    "    linear1.gradBias = torch.Tensor(50):zero()\n",
    "    linear2.bias = torch.Tensor(50):zero()\n",
    "    linear2.gradBias = torch.Tensor(50):zero()\n",
    "    linear3.bias = torch.Tensor(50):zero()\n",
    "    linear3.gradBias = torch.Tensor(50):zero()\n",
    "end\n"
   ]
  },
  {
   "cell_type": "code",
   "execution_count": 95,
   "metadata": {
    "collapsed": false
   },
   "outputs": [
    {
     "data": {
      "image/png": "[encoded data removed]",
      "text/plain": [
       "Console does not support images"
      ]
     },
     "metadata": {
      "image/png": {
       "height": 32,
       "width": 32
      }
     },
     "output_type": "display_data"
    },
    {
     "data": {
      "image/png": "[encoded data removed]",
      "text/plain": [
       "Console does not support images"
      ]
     },
     "metadata": {
      "image/png": {
       "height": 32,
       "width": 32
      }
     },
     "output_type": "display_data"
    },
    {
     "data": {
      "image/png": "[encoded data removed]",
      "text/plain": [
       "Console does not support images"
      ]
     },
     "metadata": {
      "image/png": {
       "height": 32,
       "width": 32
      }
     },
     "output_type": "display_data"
    },
    {
     "data": {
      "image/png": "[encoded data removed]",
      "text/plain": [
       "Console does not support images"
      ]
     },
     "metadata": {
      "image/png": {
       "height": 32,
       "width": 32
      }
     },
     "output_type": "display_data"
    },
    {
     "data": {
      "image/png": "[encoded data removed]",
      "text/plain": [
       "Console does not support images"
      ]
     },
     "metadata": {
      "image/png": {
       "height": 32,
       "width": 32
      }
     },
     "output_type": "display_data"
    },
    {
     "data": {
      "image/png": "[encoded data removed]",
      "text/plain": [
       "Console does not support images"
      ]
     },
     "metadata": {
      "image/png": {
       "height": 32,
       "width": 32
      }
     },
     "output_type": "display_data"
    },
    {
     "data": {
      "image/png": "[encoded data removed]",
      "text/plain": [
       "Console does not support images"
      ]
     },
     "metadata": {
      "image/png": {
       "height": 32,
       "width": 32
      }
     },
     "output_type": "display_data"
    },
    {
     "data": {
      "image/png": "[encoded data removed]",
      "text/plain": [
       "Console does not support images"
      ]
     },
     "metadata": {
      "image/png": {
       "height": 32,
       "width": 32
      }
     },
     "output_type": "display_data"
    },
    {
     "data": {
      "image/png": "[encoded data removed]",
      "text/plain": [
       "Console does not support images"
      ]
     },
     "metadata": {
      "image/png": {
       "height": 32,
       "width": 32
      }
     },
     "output_type": "display_data"
    },
    {
     "data": {
      "image/png": "[encoded data removed]",
      "text/plain": [
       "Console does not support images"
      ]
     },
     "metadata": {
      "image/png": {
       "height": 32,
       "width": 32
      }
     },
     "output_type": "display_data"
    },
    {
     "data": {
      "image/png": "[encoded data removed]",
      "text/plain": [
       "Console does not support images"
      ]
     },
     "metadata": {
      "image/png": {
       "height": 32,
       "width": 32
      }
     },
     "output_type": "display_data"
    }
   ],
   "source": [
    "\n",
    "local activity = traindata[2001]\n",
    "\n",
    "local phases = torch.Tensor(10,32,32)\n",
    "\n",
    "itorch.image(activity)\n",
    "for i = 1,10 do\n",
    "        \n",
    "    local phase = (torch.rand(1,32,32)*2*math.pi)-math.pi\n",
    "    local inp = {torch.cmul(activity,torch.cos(phase)),torch.cmul(activity,torch.sin(phase))}\n",
    "\n",
    "    local out = autoencoder:forward(inp)\n",
    "\n",
    "    local a_out = torch.sqrt( torch.pow(out[1],2) + torch.pow(out[2],2 ))\n",
    "    local phase_out = torch.atan2(out[2],out[1])\n",
    "\n",
    "    for j = 1,100 do\n",
    "        out = autoencoder:forward({torch.cmul(activity,torch.cos(phase_out)),torch.cmul(activity,torch.sin(phase_out))})\n",
    "        phase_out = torch.atan2(out[2],out[1])\n",
    "    \n",
    "    end\n",
    "\n",
    "    \n",
    "\n",
    "    hsv = torch.Tensor(3,32,32)\n",
    "    hsv[1]:copy((phase_out+math.pi)/(2*math.pi))\n",
    "    hsv[2] = torch.Tensor(32,32):fill(0.5)\n",
    "    hsv[3] = torch.Tensor(32,32):fill(0.5)\n",
    "    rgb = image.hsv2rgb(hsv)\n",
    "\n",
    "    phases[i] = phase_out[1]\n",
    "    itorch.image(rgb)\n",
    "\n",
    "--    itorch.image(a_out)\n",
    "    \n",
    "    \n",
    "end\n",
    "\n",
    "local phase_diff  = torch.Tensor(5,32,32)\n",
    "local j = 1\n",
    "for i = 1,9,2 do\n",
    "    phase_diff[j] = phases[i]-phases[i+1]\n",
    "    phase_diff[j] = phase_diff[j] - (torch.floor(phase_diff[j]/(2*math.pi))*(2*math.pi))\n",
    "    j = j+1\n",
    "\n",
    "end\n",
    "\n",
    "gnuplot.hist(phase_diff,100)"
   ]
  },
  {
   "cell_type": "code",
   "execution_count": 77,
   "metadata": {
    "collapsed": false
   },
   "outputs": [
    {
     "data": {
      "text/plain": [
       " 5\n",
       " 5\n",
       " 5\n",
       " 5\n",
       " 5\n",
       " 5\n",
       " 5\n",
       " 5\n",
       " 5\n",
       " 5\n",
       "[torch.DoubleTensor of size 10]\n",
       "\n"
      ]
     },
     "execution_count": 77,
     "metadata": {},
     "output_type": "execute_result"
    }
   ],
   "source": [
    "t = torch.Tensor(10):fill(10)\n",
    "print(t/2)"
   ]
  },
  {
   "cell_type": "code",
   "execution_count": null,
   "metadata": {
    "collapsed": true
   },
   "outputs": [],
   "source": []
  }
 ],
 "metadata": {
  "kernelspec": {
   "display_name": "iTorch",
   "language": "lua",
   "name": "itorch"
  },
  "language_info": {
   "name": "lua",
   "version": "20003"
  }
 },
 "nbformat": 4,
 "nbformat_minor": 0
}
